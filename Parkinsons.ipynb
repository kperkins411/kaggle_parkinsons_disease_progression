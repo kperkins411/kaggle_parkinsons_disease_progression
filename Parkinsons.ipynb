{
 "cells": [
  {
   "cell_type": "markdown",
   "id": "dd197f78-c6d1-4958-97a8-fe72e8bfaa5a",
   "metadata": {},
   "source": [
    "# KAGGLE \n",
    "\n",
    "https://www.kaggle.com/competitions/amp-parkinsons-disease-progression-prediction"
   ]
  },
  {
   "cell_type": "code",
   "execution_count": 1,
   "id": "95117191-690d-4371-be65-280af6eadcc6",
   "metadata": {},
   "outputs": [],
   "source": [
    "import torch\n",
    "import os\n",
    "import pandas as pd\n",
    "import torch.optim as optim\n",
    "import sklearn\n",
    "from sklearn.model_selection import train_test_split\n",
    "sklearn.__version__\n",
    "\n",
    "# autoreload extension\n",
    "%load_ext autoreload\n",
    "%autoreload 2"
   ]
  },
  {
   "cell_type": "code",
   "execution_count": 2,
   "id": "cd6c97b1-cdf4-4984-9812-8846c88b38f5",
   "metadata": {},
   "outputs": [
    {
     "name": "stdout",
     "output_type": "stream",
     "text": [
      "Setup python packages...\n"
     ]
    },
    {
     "name": "stderr",
     "output_type": "stream",
     "text": [
      "WARNING: Running pip as the 'root' user can result in broken permissions and conflicting behaviour with the system package manager. It is recommended to use a virtual environment instead: https://pip.pypa.io/warnings/venv\n",
      "WARNING: Running pip as the 'root' user can result in broken permissions and conflicting behaviour with the system package manager. It is recommended to use a virtual environment instead: https://pip.pypa.io/warnings/venv\n",
      "WARNING: Running pip as the 'root' user can result in broken permissions and conflicting behaviour with the system package manager. It is recommended to use a virtual environment instead: https://pip.pypa.io/warnings/venv\n"
     ]
    },
    {
     "name": "stdout",
     "output_type": "stream",
     "text": [
      "Downloading amp-parkinsons-disease-progression-prediction.zip to /root/datap\n"
     ]
    },
    {
     "name": "stderr",
     "output_type": "stream",
     "text": [
      "100%|██████████| 16.1M/16.1M [00:00<00:00, 33.6MB/s]\n"
     ]
    },
    {
     "name": "stdout",
     "output_type": "stream",
     "text": [
      "\n",
      "Setup dotfiles...\n",
      "Running setup.sh...\n"
     ]
    },
    {
     "name": "stderr",
     "output_type": "stream",
     "text": [
      "--2023-04-29 01:52:54--  https://raw.githubusercontent.com/kperkins411/dotfiles/master/setup.sh\n",
      "Resolving raw.githubusercontent.com (raw.githubusercontent.com)... 185.199.111.133, 185.199.109.133, 185.199.108.133, ...\n",
      "Connecting to raw.githubusercontent.com (raw.githubusercontent.com)|185.199.111.133|:443... connected.\n",
      "HTTP request sent, awaiting response... 200 OK\n",
      "Length: 1022 [text/plain]\n",
      "Saving to: ‘setup.sh’\n",
      "\n",
      "     0K                                                       100% 41.9M=0s\n",
      "\n",
      "2023-04-29 01:52:54 (41.9 MB/s) - ‘setup.sh’ saved [1022/1022]\n",
      "\n",
      "Cloning into '/root/.cfg'...\n"
     ]
    },
    {
     "name": "stdout",
     "output_type": "stream",
     "text": [
      "Changing key permissions...\n"
     ]
    },
    {
     "name": "stderr",
     "output_type": "stream",
     "text": [
      "rm: cannot remove '/root/.vimrc': No such file or directory\n",
      "rm: cannot remove '/root/.tmux.conf': No such file or directory\n",
      "rm: cannot remove '/root/.ctags': No such file or directory\n"
     ]
    }
   ],
   "source": [
    "import setup_env as su\n",
    "su.setup_env()"
   ]
  },
  {
   "cell_type": "code",
   "execution_count": 3,
   "id": "6f6f1997-5d5a-4170-b01e-5c6de69807fd",
   "metadata": {},
   "outputs": [],
   "source": [
    "import utils_parkinsons as ut"
   ]
  },
  {
   "cell_type": "code",
   "execution_count": 6,
   "id": "e364ca85-a130-45aa-8500-4a0cf41c72e7",
   "metadata": {},
   "outputs": [],
   "source": [
    "df_train_cli = pd.read_csv(ut.CFG.DATAP+\"train_clinical_data.csv\")\n",
    "df_train_pep = pd.read_csv(ut.CFG.DATAP+\"train_peptides.csv\")\n",
    "df_train_pro = pd.read_csv(ut.CFG.DATAP+\"train_proteins.csv\")"
   ]
  },
  {
   "cell_type": "code",
   "execution_count": 12,
   "id": "338433a1-b2b3-433f-a6e9-dbb224ac1526",
   "metadata": {},
   "outputs": [
    {
     "name": "stdout",
     "output_type": "stream",
     "text": [
      "df_train_cli=(2615, 8), df_train_pep=(981834, 6),df_train_pro=(232741, 5)\n"
     ]
    }
   ],
   "source": [
    "print(f'df_train_cli={df_train_cli.shape}, df_train_pep={df_train_pep.shape},df_train_pro={df_train_pro.shape}') "
   ]
  },
  {
   "cell_type": "code",
   "execution_count": 15,
   "id": "43eb7390-6da4-480d-9aed-218c00989cd6",
   "metadata": {},
   "outputs": [
    {
     "data": {
      "text/plain": [
       "visit_id                                  0\n",
       "patient_id                                0\n",
       "visit_month                               0\n",
       "updrs_1                                   1\n",
       "updrs_2                                   2\n",
       "updrs_3                                  25\n",
       "updrs_4                                1038\n",
       "upd23b_clinical_state_on_medication    1327\n",
       "dtype: int64"
      ]
     },
     "execution_count": 15,
     "metadata": {},
     "output_type": "execute_result"
    }
   ],
   "source": [
    "df_train_cli.isnull().sum()"
   ]
  },
  {
   "cell_type": "code",
   "execution_count": 17,
   "id": "0a0be5cd-1e7b-45ae-ade1-1a5ad0bb814b",
   "metadata": {},
   "outputs": [
    {
     "data": {
      "text/plain": [
       "visit_id                               2615\n",
       "patient_id                              248\n",
       "visit_month                              17\n",
       "updrs_1                                  32\n",
       "updrs_2                                  36\n",
       "updrs_3                                  72\n",
       "updrs_4                                  19\n",
       "upd23b_clinical_state_on_medication       2\n",
       "dtype: int64"
      ]
     },
     "execution_count": 17,
     "metadata": {},
     "output_type": "execute_result"
    }
   ],
   "source": [
    "df_train_cli.nunique()"
   ]
  },
  {
   "cell_type": "code",
   "execution_count": 18,
   "id": "caa5b227-79de-4060-b404-1afd0785b9bf",
   "metadata": {},
   "outputs": [
    {
     "data": {
      "text/plain": [
       "visit_id              1113\n",
       "visit_month             15\n",
       "patient_id             248\n",
       "UniProt                227\n",
       "Peptide                968\n",
       "PeptideAbundance    738931\n",
       "dtype: int64"
      ]
     },
     "execution_count": 18,
     "metadata": {},
     "output_type": "execute_result"
    }
   ],
   "source": [
    "df_train_pep.nunique()"
   ]
  },
  {
   "cell_type": "code",
   "execution_count": 19,
   "id": "da69e06f-f60d-4c99-b68a-6510b059c895",
   "metadata": {},
   "outputs": [
    {
     "data": {
      "text/plain": [
       "visit_id         1113\n",
       "visit_month        15\n",
       "patient_id        248\n",
       "UniProt           227\n",
       "NPX            218795\n",
       "dtype: int64"
      ]
     },
     "execution_count": 19,
     "metadata": {},
     "output_type": "execute_result"
    }
   ],
   "source": [
    "df_train_pro.nunique()"
   ]
  },
  {
   "cell_type": "code",
   "execution_count": 22,
   "id": "3073adc0-ce3c-48c8-a796-bf741bd468cb",
   "metadata": {},
   "outputs": [
    {
     "data": {
      "text/plain": [
       "array([  0,   3,   6,   9,  12,  18,  24,  30,  36,  42,  48,  54,  60,\n",
       "        72,  84,  96, 108])"
      ]
     },
     "execution_count": 22,
     "metadata": {},
     "output_type": "execute_result"
    }
   ],
   "source": [
    "df_train_cli.visit_month.unique()"
   ]
  },
  {
   "cell_type": "code",
   "execution_count": 20,
   "id": "200cce7a-cd4d-42e3-a4ee-359f4e835e5e",
   "metadata": {},
   "outputs": [
    {
     "data": {
      "text/plain": [
       "array([  0,   3,   6,  12,  18,  24,  30,  36,  48,  54,  60,  72,  84,\n",
       "        96, 108])"
      ]
     },
     "execution_count": 20,
     "metadata": {},
     "output_type": "execute_result"
    }
   ],
   "source": [
    "df_train_pep.visit_month.unique()"
   ]
  },
  {
   "cell_type": "code",
   "execution_count": 21,
   "id": "99fc4113-01bc-4968-a5c0-5de07846cc9a",
   "metadata": {},
   "outputs": [
    {
     "data": {
      "text/plain": [
       "array([  0,   3,   6,  12,  18,  24,  30,  36,  48,  54,  60,  72,  84,\n",
       "        96, 108])"
      ]
     },
     "execution_count": 21,
     "metadata": {},
     "output_type": "execute_result"
    }
   ],
   "source": [
    "df_train_pro.visit_month.unique()"
   ]
  },
  {
   "cell_type": "code",
   "execution_count": 24,
   "id": "45729da0-a1bf-49de-9638-934e931c5a48",
   "metadata": {},
   "outputs": [
    {
     "data": {
      "text/plain": [
       "[9, 42]"
      ]
     },
     "execution_count": 24,
     "metadata": {},
     "output_type": "execute_result"
    }
   ],
   "source": [
    "#what is is cli but not others\n",
    "[a for a in df_train_cli.visit_month.unique() if a not in df_train_pro.visit_month.unique()]"
   ]
  },
  {
   "cell_type": "code",
   "execution_count": null,
   "id": "2c94845c-ebe0-478a-bb32-a08cdf0a272f",
   "metadata": {},
   "outputs": [],
   "source": []
  }
 ],
 "metadata": {
  "kernelspec": {
   "display_name": "Python 3 (ipykernel)",
   "language": "python",
   "name": "python3"
  },
  "language_info": {
   "codemirror_mode": {
    "name": "ipython",
    "version": 3
   },
   "file_extension": ".py",
   "mimetype": "text/x-python",
   "name": "python",
   "nbconvert_exporter": "python",
   "pygments_lexer": "ipython3",
   "version": "3.9.13"
  }
 },
 "nbformat": 4,
 "nbformat_minor": 5
}
