{
 "cells": [
  {
   "cell_type": "markdown",
   "id": "dd197f78-c6d1-4958-97a8-fe72e8bfaa5a",
   "metadata": {},
   "source": [
    "# KAGGLE \n",
    "\n",
    "https://www.kaggle.com/competitions/amp-parkinsons-disease-progression-prediction"
   ]
  },
  {
   "cell_type": "code",
   "execution_count": 1,
   "id": "95117191-690d-4371-be65-280af6eadcc6",
   "metadata": {},
   "outputs": [],
   "source": [
    "import torch\n",
    "import os\n",
    "import pandas as pd\n",
    "import torch.optim as optim\n",
    "import sklearn\n",
    "import matplotlib.pyplot as plt\n",
    "import seaborn as sns\n",
    "\n",
    "from sklearn.model_selection import train_test_split\n",
    "\n",
    "#the following gives access to utils folder\n",
    "#where utils package stores shared code\n",
    "import os\n",
    "import sys\n",
    "PROJECT_ROOT = os.path.abspath(os.path.join(\n",
    "                  os.getcwd(),\n",
    "                 \"../\")\n",
    ")\n",
    "\n",
    "#only add it once\n",
    "if (PROJECT_ROOT not in sys.path):\n",
    "    sys.path.append(PROJECT_ROOT)\n",
    "\n",
    "# Display all cell outputs\n",
    "from IPython.core.interactiveshell import InteractiveShell\n",
    "InteractiveShell.ast_node_interactivity = 'all'\n",
    "\n",
    "from IPython import get_ipython\n",
    "ipython = get_ipython()\n",
    "\n",
    "# autoreload extension\n",
    "if 'autoreload' not in ipython.extension_manager.loaded:\n",
    "    %load_ext autoreload\n",
    "\n",
    "%autoreload 2"
   ]
  },
  {
   "cell_type": "code",
   "execution_count": 2,
   "id": "cd6c97b1-cdf4-4984-9812-8846c88b38f5",
   "metadata": {},
   "outputs": [
    {
     "name": "stdout",
     "output_type": "stream",
     "text": [
      "setup environment...\n",
      "Setup python packages...\n"
     ]
    },
    {
     "name": "stderr",
     "output_type": "stream",
     "text": [
      "WARNING: Running pip as the 'root' user can result in broken permissions and conflicting behaviour with the system package manager. It is recommended to use a virtual environment instead: https://pip.pypa.io/warnings/venv\n",
      "WARNING: Running pip as the 'root' user can result in broken permissions and conflicting behaviour with the system package manager. It is recommended to use a virtual environment instead: https://pip.pypa.io/warnings/venv\n",
      "WARNING: Running pip as the 'root' user can result in broken permissions and conflicting behaviour with the system package manager. It is recommended to use a virtual environment instead: https://pip.pypa.io/warnings/venv\n",
      "--2023-05-08 01:48:15--  https://raw.githubusercontent.com/kperkins411/dotfiles/master/setup.sh\n",
      "Resolving raw.githubusercontent.com (raw.githubusercontent.com)... 185.199.110.133, 185.199.111.133, 185.199.108.133, ...\n",
      "Connecting to raw.githubusercontent.com (raw.githubusercontent.com)|185.199.110.133|:443... connected.\n",
      "HTTP request sent, awaiting response... 200 OK\n",
      "Length: 1180 (1.2K) [text/plain]\n",
      "Saving to: ‘setup.sh’\n",
      "\n",
      "     0K .                                                     100% 21.7M=0s\n",
      "\n",
      "2023-05-08 01:48:16 (21.7 MB/s) - ‘setup.sh’ saved [1180/1180]\n",
      "\n",
      "Cloning into '/root/.cfg1'...\n"
     ]
    },
    {
     "name": "stdout",
     "output_type": "stream",
     "text": [
      "Running setup.sh...\n"
     ]
    },
    {
     "name": "stderr",
     "output_type": "stream",
     "text": [
      "rm: cannot remove '/root/.vimrc': No such file or directory\n",
      "cp: cannot stat '/root//.vimrc': No such file or directory\n",
      "rm: cannot remove '/root/.tmux.conf': No such file or directory\n",
      "cp: cannot stat '/root//.tmux.conf': No such file or directory\n",
      "rm: cannot remove '/root/.ctags': No such file or directory\n",
      "cp: cannot stat '/root//.ctags': No such file or directory\n",
      "cp: cannot stat '/root//.gitconfig': No such file or directory\n",
      "rm: cannot remove '/root/.bash_aliases': No such file or directory\n",
      "cp: cannot stat '/root//.bash_aliases': No such file or directory\n"
     ]
    },
    {
     "name": "stdout",
     "output_type": "stream",
     "text": [
      "Removing /.vimrc\n",
      "Copying .vimrc to .cfg1\n",
      "Removing /.tmux.conf\n",
      "Copying .tmux.conf to .cfg1\n",
      "Removing /.ctags\n",
      "Copying .ctags to .cfg1\n",
      "Removing /.gitconfig\n",
      "Copying .gitconfig to .cfg1\n",
      "Removing /.bash_aliases\n",
      "Copying .bash_aliases to .cfg1\n",
      "Changing key permissions...\n",
      "setup data...\n",
      "Downloading amp-parkinsons-disease-progression-prediction.zip to /root/datap\n"
     ]
    },
    {
     "name": "stderr",
     "output_type": "stream",
     "text": [
      "100%|██████████| 16.1M/16.1M [00:00<00:00, 52.4MB/s]\n"
     ]
    },
    {
     "name": "stdout",
     "output_type": "stream",
     "text": [
      "\n"
     ]
    }
   ],
   "source": [
    "#run this cell once per paperspace session\n",
    "import kaggle_utils as ku\n",
    "ku.setup_all(data_dir='datap', competition_name='amp-parkinsons-disease-progression-prediction')"
   ]
  },
  {
   "cell_type": "code",
   "execution_count": 3,
   "id": "e364ca85-a130-45aa-8500-4a0cf41c72e7",
   "metadata": {},
   "outputs": [],
   "source": [
    "import utils_parkinsons as pu\n",
    "df_train_cli = pd.read_csv(pu.CFG.DATAP+\"train_clinical_data.csv\")\n",
    "df_train_pep = pd.read_csv(pu.CFG.DATAP+\"train_peptides.csv\")\n",
    "df_train_pro = pd.read_csv(pu.CFG.DATAP+\"train_proteins.csv\")"
   ]
  },
  {
   "cell_type": "code",
   "execution_count": 4,
   "id": "338433a1-b2b3-433f-a6e9-dbb224ac1526",
   "metadata": {},
   "outputs": [
    {
     "name": "stdout",
     "output_type": "stream",
     "text": [
      "df_train_cli=(2615, 8), df_train_pep=(981834, 6),df_train_pro=(232741, 5)\n"
     ]
    }
   ],
   "source": [
    "print(f'df_train_cli={df_train_cli.shape}, df_train_pep={df_train_pep.shape},df_train_pro={df_train_pro.shape}') "
   ]
  },
  {
   "cell_type": "code",
   "execution_count": 5,
   "id": "43eb7390-6da4-480d-9aed-218c00989cd6",
   "metadata": {},
   "outputs": [
    {
     "data": {
      "text/plain": [
       "visit_id                                  0\n",
       "patient_id                                0\n",
       "visit_month                               0\n",
       "updrs_1                                   1\n",
       "updrs_2                                   2\n",
       "updrs_3                                  25\n",
       "updrs_4                                1038\n",
       "upd23b_clinical_state_on_medication    1327\n",
       "dtype: int64"
      ]
     },
     "execution_count": 5,
     "metadata": {},
     "output_type": "execute_result"
    }
   ],
   "source": [
    "df_train_cli.isnull().sum()"
   ]
  },
  {
   "cell_type": "code",
   "execution_count": 6,
   "id": "0a0be5cd-1e7b-45ae-ade1-1a5ad0bb814b",
   "metadata": {},
   "outputs": [
    {
     "data": {
      "text/plain": [
       "visit_id                               2615\n",
       "patient_id                              248\n",
       "visit_month                              17\n",
       "updrs_1                                  32\n",
       "updrs_2                                  36\n",
       "updrs_3                                  72\n",
       "updrs_4                                  19\n",
       "upd23b_clinical_state_on_medication       2\n",
       "dtype: int64"
      ]
     },
     "execution_count": 6,
     "metadata": {},
     "output_type": "execute_result"
    }
   ],
   "source": [
    "df_train_cli.nunique()"
   ]
  },
  {
   "cell_type": "code",
   "execution_count": 7,
   "id": "caa5b227-79de-4060-b404-1afd0785b9bf",
   "metadata": {},
   "outputs": [
    {
     "data": {
      "text/plain": [
       "visit_id              1113\n",
       "visit_month             15\n",
       "patient_id             248\n",
       "UniProt                227\n",
       "Peptide                968\n",
       "PeptideAbundance    738931\n",
       "dtype: int64"
      ]
     },
     "execution_count": 7,
     "metadata": {},
     "output_type": "execute_result"
    }
   ],
   "source": [
    "df_train_pep.nunique()"
   ]
  },
  {
   "cell_type": "code",
   "execution_count": 8,
   "id": "da69e06f-f60d-4c99-b68a-6510b059c895",
   "metadata": {},
   "outputs": [
    {
     "data": {
      "text/plain": [
       "visit_id         1113\n",
       "visit_month        15\n",
       "patient_id        248\n",
       "UniProt           227\n",
       "NPX            218795\n",
       "dtype: int64"
      ]
     },
     "execution_count": 8,
     "metadata": {},
     "output_type": "execute_result"
    }
   ],
   "source": [
    "df_train_pro.nunique()"
   ]
  },
  {
   "cell_type": "code",
   "execution_count": 9,
   "id": "3073adc0-ce3c-48c8-a796-bf741bd468cb",
   "metadata": {},
   "outputs": [
    {
     "data": {
      "text/plain": [
       "array([  0,   3,   6,   9,  12,  18,  24,  30,  36,  42,  48,  54,  60,\n",
       "        72,  84,  96, 108])"
      ]
     },
     "execution_count": 9,
     "metadata": {},
     "output_type": "execute_result"
    }
   ],
   "source": [
    "df_train_cli.visit_month.unique()"
   ]
  },
  {
   "cell_type": "code",
   "execution_count": 10,
   "id": "200cce7a-cd4d-42e3-a4ee-359f4e835e5e",
   "metadata": {},
   "outputs": [
    {
     "data": {
      "text/plain": [
       "array([  0,   3,   6,  12,  18,  24,  30,  36,  48,  54,  60,  72,  84,\n",
       "        96, 108])"
      ]
     },
     "execution_count": 10,
     "metadata": {},
     "output_type": "execute_result"
    }
   ],
   "source": [
    "df_train_pep.visit_month.unique()"
   ]
  },
  {
   "cell_type": "code",
   "execution_count": 11,
   "id": "99fc4113-01bc-4968-a5c0-5de07846cc9a",
   "metadata": {},
   "outputs": [
    {
     "data": {
      "text/plain": [
       "array([  0,   3,   6,  12,  18,  24,  30,  36,  48,  54,  60,  72,  84,\n",
       "        96, 108])"
      ]
     },
     "execution_count": 11,
     "metadata": {},
     "output_type": "execute_result"
    }
   ],
   "source": [
    "df_train_pro.visit_month.unique()"
   ]
  },
  {
   "cell_type": "code",
   "execution_count": 12,
   "id": "45729da0-a1bf-49de-9638-934e931c5a48",
   "metadata": {},
   "outputs": [
    {
     "data": {
      "text/plain": [
       "[9, 42]"
      ]
     },
     "execution_count": 12,
     "metadata": {},
     "output_type": "execute_result"
    }
   ],
   "source": [
    "#what is is cli but not others\n",
    "oddities=[a for a in df_train_cli.visit_month.unique() if a not in df_train_pro.visit_month.unique()]\n",
    "oddities"
   ]
  },
  {
   "cell_type": "code",
   "execution_count": 13,
   "id": "1ee55cc5-02af-4650-9698-373d8186e61b",
   "metadata": {},
   "outputs": [
    {
     "data": {
      "text/plain": [
       "On     775\n",
       "Off    513\n",
       "Name: upd23b_clinical_state_on_medication, dtype: int64"
      ]
     },
     "execution_count": 13,
     "metadata": {},
     "output_type": "execute_result"
    }
   ],
   "source": [
    "df_train_cli.upd23b_clinical_state_on_medication.value_counts()"
   ]
  },
  {
   "cell_type": "code",
   "execution_count": 14,
   "id": "d392de9e-c8e6-45fd-87c1-935c26dc1d82",
   "metadata": {},
   "outputs": [
    {
     "data": {
      "text/plain": [
       "1327"
      ]
     },
     "execution_count": 14,
     "metadata": {},
     "output_type": "execute_result"
    }
   ],
   "source": [
    "df_train_cli.upd23b_clinical_state_on_medication.isnull().sum()"
   ]
  },
  {
   "cell_type": "code",
   "execution_count": 15,
   "id": "2c94845c-ebe0-478a-bb32-a08cdf0a272f",
   "metadata": {},
   "outputs": [
    {
     "data": {
      "text/html": [
       "<div>\n",
       "<style scoped>\n",
       "    .dataframe tbody tr th:only-of-type {\n",
       "        vertical-align: middle;\n",
       "    }\n",
       "\n",
       "    .dataframe tbody tr th {\n",
       "        vertical-align: top;\n",
       "    }\n",
       "\n",
       "    .dataframe thead th {\n",
       "        text-align: right;\n",
       "    }\n",
       "</style>\n",
       "<table border=\"1\" class=\"dataframe\">\n",
       "  <thead>\n",
       "    <tr style=\"text-align: right;\">\n",
       "      <th></th>\n",
       "      <th>visit_id</th>\n",
       "      <th>patient_id</th>\n",
       "      <th>visit_month</th>\n",
       "      <th>updrs_1</th>\n",
       "      <th>updrs_2</th>\n",
       "      <th>updrs_3</th>\n",
       "      <th>updrs_4</th>\n",
       "      <th>upd23b_clinical_state_on_medication</th>\n",
       "    </tr>\n",
       "  </thead>\n",
       "  <tbody>\n",
       "    <tr>\n",
       "      <th>9</th>\n",
       "      <td>55_42</td>\n",
       "      <td>55</td>\n",
       "      <td>42</td>\n",
       "      <td>12.0</td>\n",
       "      <td>20.0</td>\n",
       "      <td>41.0</td>\n",
       "      <td>0.0</td>\n",
       "      <td>On</td>\n",
       "    </tr>\n",
       "    <tr>\n",
       "      <th>21</th>\n",
       "      <td>942_42</td>\n",
       "      <td>942</td>\n",
       "      <td>42</td>\n",
       "      <td>2.0</td>\n",
       "      <td>3.0</td>\n",
       "      <td>32.0</td>\n",
       "      <td>0.0</td>\n",
       "      <td>NaN</td>\n",
       "    </tr>\n",
       "    <tr>\n",
       "      <th>35</th>\n",
       "      <td>1517_42</td>\n",
       "      <td>1517</td>\n",
       "      <td>42</td>\n",
       "      <td>15.0</td>\n",
       "      <td>13.0</td>\n",
       "      <td>37.0</td>\n",
       "      <td>4.0</td>\n",
       "      <td>On</td>\n",
       "    </tr>\n",
       "    <tr>\n",
       "      <th>60</th>\n",
       "      <td>3636_42</td>\n",
       "      <td>3636</td>\n",
       "      <td>42</td>\n",
       "      <td>10.0</td>\n",
       "      <td>9.0</td>\n",
       "      <td>12.0</td>\n",
       "      <td>0.0</td>\n",
       "      <td>On</td>\n",
       "    </tr>\n",
       "    <tr>\n",
       "      <th>72</th>\n",
       "      <td>3863_42</td>\n",
       "      <td>3863</td>\n",
       "      <td>42</td>\n",
       "      <td>15.0</td>\n",
       "      <td>16.0</td>\n",
       "      <td>25.0</td>\n",
       "      <td>5.0</td>\n",
       "      <td>On</td>\n",
       "    </tr>\n",
       "    <tr>\n",
       "      <th>...</th>\n",
       "      <td>...</td>\n",
       "      <td>...</td>\n",
       "      <td>...</td>\n",
       "      <td>...</td>\n",
       "      <td>...</td>\n",
       "      <td>...</td>\n",
       "      <td>...</td>\n",
       "      <td>...</td>\n",
       "    </tr>\n",
       "    <tr>\n",
       "      <th>2557</th>\n",
       "      <td>63875_42</td>\n",
       "      <td>63875</td>\n",
       "      <td>42</td>\n",
       "      <td>4.0</td>\n",
       "      <td>1.0</td>\n",
       "      <td>1.0</td>\n",
       "      <td>0.0</td>\n",
       "      <td>NaN</td>\n",
       "    </tr>\n",
       "    <tr>\n",
       "      <th>2565</th>\n",
       "      <td>63889_42</td>\n",
       "      <td>63889</td>\n",
       "      <td>42</td>\n",
       "      <td>5.0</td>\n",
       "      <td>5.0</td>\n",
       "      <td>27.0</td>\n",
       "      <td>1.0</td>\n",
       "      <td>Off</td>\n",
       "    </tr>\n",
       "    <tr>\n",
       "      <th>2578</th>\n",
       "      <td>64669_42</td>\n",
       "      <td>64669</td>\n",
       "      <td>42</td>\n",
       "      <td>20.0</td>\n",
       "      <td>18.0</td>\n",
       "      <td>49.0</td>\n",
       "      <td>0.0</td>\n",
       "      <td>On</td>\n",
       "    </tr>\n",
       "    <tr>\n",
       "      <th>2593</th>\n",
       "      <td>64674_42</td>\n",
       "      <td>64674</td>\n",
       "      <td>42</td>\n",
       "      <td>5.0</td>\n",
       "      <td>18.0</td>\n",
       "      <td>48.0</td>\n",
       "      <td>2.0</td>\n",
       "      <td>NaN</td>\n",
       "    </tr>\n",
       "    <tr>\n",
       "      <th>2609</th>\n",
       "      <td>65043_42</td>\n",
       "      <td>65043</td>\n",
       "      <td>42</td>\n",
       "      <td>9.0</td>\n",
       "      <td>10.0</td>\n",
       "      <td>15.0</td>\n",
       "      <td>0.0</td>\n",
       "      <td>Off</td>\n",
       "    </tr>\n",
       "  </tbody>\n",
       "</table>\n",
       "<p>154 rows × 8 columns</p>\n",
       "</div>"
      ],
      "text/plain": [
       "      visit_id  patient_id  visit_month  updrs_1  updrs_2  updrs_3  updrs_4  \\\n",
       "9        55_42          55           42     12.0     20.0     41.0      0.0   \n",
       "21      942_42         942           42      2.0      3.0     32.0      0.0   \n",
       "35     1517_42        1517           42     15.0     13.0     37.0      4.0   \n",
       "60     3636_42        3636           42     10.0      9.0     12.0      0.0   \n",
       "72     3863_42        3863           42     15.0     16.0     25.0      5.0   \n",
       "...        ...         ...          ...      ...      ...      ...      ...   \n",
       "2557  63875_42       63875           42      4.0      1.0      1.0      0.0   \n",
       "2565  63889_42       63889           42      5.0      5.0     27.0      1.0   \n",
       "2578  64669_42       64669           42     20.0     18.0     49.0      0.0   \n",
       "2593  64674_42       64674           42      5.0     18.0     48.0      2.0   \n",
       "2609  65043_42       65043           42      9.0     10.0     15.0      0.0   \n",
       "\n",
       "     upd23b_clinical_state_on_medication  \n",
       "9                                     On  \n",
       "21                                   NaN  \n",
       "35                                    On  \n",
       "60                                    On  \n",
       "72                                    On  \n",
       "...                                  ...  \n",
       "2557                                 NaN  \n",
       "2565                                 Off  \n",
       "2578                                  On  \n",
       "2593                                 NaN  \n",
       "2609                                 Off  \n",
       "\n",
       "[154 rows x 8 columns]"
      ]
     },
     "execution_count": 15,
     "metadata": {},
     "output_type": "execute_result"
    }
   ],
   "source": [
    "df_train_cli[df_train_cli['visit_month'] ==42]"
   ]
  },
  {
   "cell_type": "code",
   "execution_count": 16,
   "id": "f2d05b1b-1ade-4f7e-a0bf-705a1a2bbb70",
   "metadata": {},
   "outputs": [
    {
     "data": {
      "text/plain": [
       "patient_id\n",
       "55       1\n",
       "942      1\n",
       "1517     2\n",
       "1923     0\n",
       "2660     0\n",
       "        ..\n",
       "63875    0\n",
       "63889    2\n",
       "64669    2\n",
       "64674    2\n",
       "65043    2\n",
       "Name: upd23b_clinical_state_on_medication, Length: 248, dtype: int64"
      ]
     },
     "execution_count": 16,
     "metadata": {},
     "output_type": "execute_result"
    }
   ],
   "source": [
    "#how many have NaNs and also On and Off in upd23b_clinical_state_on_medication\n",
    "df_train_cli.groupby('patient_id')['upd23b_clinical_state_on_medication'].nunique()"
   ]
  },
  {
   "cell_type": "code",
   "execution_count": 32,
   "id": "5b25d0d2-55ab-4c07-97da-52e046fc304f",
   "metadata": {},
   "outputs": [
    {
     "data": {
      "text/html": [
       "<div>\n",
       "<style scoped>\n",
       "    .dataframe tbody tr th:only-of-type {\n",
       "        vertical-align: middle;\n",
       "    }\n",
       "\n",
       "    .dataframe tbody tr th {\n",
       "        vertical-align: top;\n",
       "    }\n",
       "\n",
       "    .dataframe thead th {\n",
       "        text-align: right;\n",
       "    }\n",
       "</style>\n",
       "<table border=\"1\" class=\"dataframe\">\n",
       "  <thead>\n",
       "    <tr style=\"text-align: right;\">\n",
       "      <th></th>\n",
       "      <th>visit_id</th>\n",
       "      <th>patient_id</th>\n",
       "      <th>visit_month</th>\n",
       "      <th>updrs_1</th>\n",
       "      <th>updrs_2</th>\n",
       "      <th>updrs_3</th>\n",
       "      <th>updrs_4</th>\n",
       "      <th>upd23b_clinical_state_on_medication</th>\n",
       "    </tr>\n",
       "  </thead>\n",
       "  <tbody>\n",
       "    <tr>\n",
       "      <th>2559</th>\n",
       "      <td>63889_0</td>\n",
       "      <td>63889</td>\n",
       "      <td>0</td>\n",
       "      <td>7.0</td>\n",
       "      <td>3.0</td>\n",
       "      <td>30.0</td>\n",
       "      <td>0.0</td>\n",
       "      <td>Off</td>\n",
       "    </tr>\n",
       "    <tr>\n",
       "      <th>2560</th>\n",
       "      <td>63889_12</td>\n",
       "      <td>63889</td>\n",
       "      <td>12</td>\n",
       "      <td>8.0</td>\n",
       "      <td>10.0</td>\n",
       "      <td>21.0</td>\n",
       "      <td>3.0</td>\n",
       "      <td>Off</td>\n",
       "    </tr>\n",
       "    <tr>\n",
       "      <th>2561</th>\n",
       "      <td>63889_18</td>\n",
       "      <td>63889</td>\n",
       "      <td>18</td>\n",
       "      <td>8.0</td>\n",
       "      <td>6.0</td>\n",
       "      <td>3.0</td>\n",
       "      <td>NaN</td>\n",
       "      <td>NaN</td>\n",
       "    </tr>\n",
       "    <tr>\n",
       "      <th>2562</th>\n",
       "      <td>63889_24</td>\n",
       "      <td>63889</td>\n",
       "      <td>24</td>\n",
       "      <td>8.0</td>\n",
       "      <td>2.0</td>\n",
       "      <td>7.0</td>\n",
       "      <td>2.0</td>\n",
       "      <td>On</td>\n",
       "    </tr>\n",
       "    <tr>\n",
       "      <th>2563</th>\n",
       "      <td>63889_30</td>\n",
       "      <td>63889</td>\n",
       "      <td>30</td>\n",
       "      <td>8.0</td>\n",
       "      <td>4.0</td>\n",
       "      <td>17.0</td>\n",
       "      <td>0.0</td>\n",
       "      <td>Off</td>\n",
       "    </tr>\n",
       "    <tr>\n",
       "      <th>2564</th>\n",
       "      <td>63889_36</td>\n",
       "      <td>63889</td>\n",
       "      <td>36</td>\n",
       "      <td>8.0</td>\n",
       "      <td>3.0</td>\n",
       "      <td>18.0</td>\n",
       "      <td>1.0</td>\n",
       "      <td>Off</td>\n",
       "    </tr>\n",
       "    <tr>\n",
       "      <th>2565</th>\n",
       "      <td>63889_42</td>\n",
       "      <td>63889</td>\n",
       "      <td>42</td>\n",
       "      <td>5.0</td>\n",
       "      <td>5.0</td>\n",
       "      <td>27.0</td>\n",
       "      <td>1.0</td>\n",
       "      <td>Off</td>\n",
       "    </tr>\n",
       "    <tr>\n",
       "      <th>2566</th>\n",
       "      <td>63889_48</td>\n",
       "      <td>63889</td>\n",
       "      <td>48</td>\n",
       "      <td>5.0</td>\n",
       "      <td>8.0</td>\n",
       "      <td>10.0</td>\n",
       "      <td>2.0</td>\n",
       "      <td>On</td>\n",
       "    </tr>\n",
       "    <tr>\n",
       "      <th>2567</th>\n",
       "      <td>63889_54</td>\n",
       "      <td>63889</td>\n",
       "      <td>54</td>\n",
       "      <td>5.0</td>\n",
       "      <td>9.0</td>\n",
       "      <td>26.0</td>\n",
       "      <td>3.0</td>\n",
       "      <td>On</td>\n",
       "    </tr>\n",
       "    <tr>\n",
       "      <th>2568</th>\n",
       "      <td>63889_60</td>\n",
       "      <td>63889</td>\n",
       "      <td>60</td>\n",
       "      <td>6.0</td>\n",
       "      <td>5.0</td>\n",
       "      <td>28.0</td>\n",
       "      <td>2.0</td>\n",
       "      <td>Off</td>\n",
       "    </tr>\n",
       "  </tbody>\n",
       "</table>\n",
       "</div>"
      ],
      "text/plain": [
       "      visit_id  patient_id  visit_month  updrs_1  updrs_2  updrs_3  updrs_4  \\\n",
       "2559   63889_0       63889            0      7.0      3.0     30.0      0.0   \n",
       "2560  63889_12       63889           12      8.0     10.0     21.0      3.0   \n",
       "2561  63889_18       63889           18      8.0      6.0      3.0      NaN   \n",
       "2562  63889_24       63889           24      8.0      2.0      7.0      2.0   \n",
       "2563  63889_30       63889           30      8.0      4.0     17.0      0.0   \n",
       "2564  63889_36       63889           36      8.0      3.0     18.0      1.0   \n",
       "2565  63889_42       63889           42      5.0      5.0     27.0      1.0   \n",
       "2566  63889_48       63889           48      5.0      8.0     10.0      2.0   \n",
       "2567  63889_54       63889           54      5.0      9.0     26.0      3.0   \n",
       "2568  63889_60       63889           60      6.0      5.0     28.0      2.0   \n",
       "\n",
       "     upd23b_clinical_state_on_medication  \n",
       "2559                                 Off  \n",
       "2560                                 Off  \n",
       "2561                                 NaN  \n",
       "2562                                  On  \n",
       "2563                                 Off  \n",
       "2564                                 Off  \n",
       "2565                                 Off  \n",
       "2566                                  On  \n",
       "2567                                  On  \n",
       "2568                                 Off  "
      ]
     },
     "execution_count": 32,
     "metadata": {},
     "output_type": "execute_result"
    }
   ],
   "source": [
    "df_train_cli[df_train_cli['patient_id'] ==63889]"
   ]
  },
  {
   "cell_type": "code",
   "execution_count": 33,
   "id": "b6091fc4-c502-4170-902c-8ef6d56bb824",
   "metadata": {},
   "outputs": [
    {
     "data": {
      "text/html": [
       "<div>\n",
       "<style scoped>\n",
       "    .dataframe tbody tr th:only-of-type {\n",
       "        vertical-align: middle;\n",
       "    }\n",
       "\n",
       "    .dataframe tbody tr th {\n",
       "        vertical-align: top;\n",
       "    }\n",
       "\n",
       "    .dataframe thead th {\n",
       "        text-align: right;\n",
       "    }\n",
       "</style>\n",
       "<table border=\"1\" class=\"dataframe\">\n",
       "  <thead>\n",
       "    <tr style=\"text-align: right;\">\n",
       "      <th></th>\n",
       "      <th>visit_id</th>\n",
       "      <th>patient_id</th>\n",
       "      <th>visit_month</th>\n",
       "      <th>updrs_1</th>\n",
       "      <th>updrs_2</th>\n",
       "      <th>updrs_3</th>\n",
       "      <th>updrs_4</th>\n",
       "      <th>upd23b_clinical_state_on_medication</th>\n",
       "    </tr>\n",
       "  </thead>\n",
       "  <tbody>\n",
       "    <tr>\n",
       "      <th>2569</th>\n",
       "      <td>64669_0</td>\n",
       "      <td>64669</td>\n",
       "      <td>0</td>\n",
       "      <td>12.0</td>\n",
       "      <td>14.0</td>\n",
       "      <td>27.0</td>\n",
       "      <td>NaN</td>\n",
       "      <td>NaN</td>\n",
       "    </tr>\n",
       "    <tr>\n",
       "      <th>2570</th>\n",
       "      <td>64669_3</td>\n",
       "      <td>64669</td>\n",
       "      <td>3</td>\n",
       "      <td>15.0</td>\n",
       "      <td>16.0</td>\n",
       "      <td>29.0</td>\n",
       "      <td>NaN</td>\n",
       "      <td>NaN</td>\n",
       "    </tr>\n",
       "    <tr>\n",
       "      <th>2571</th>\n",
       "      <td>64669_6</td>\n",
       "      <td>64669</td>\n",
       "      <td>6</td>\n",
       "      <td>17.0</td>\n",
       "      <td>20.0</td>\n",
       "      <td>33.0</td>\n",
       "      <td>NaN</td>\n",
       "      <td>NaN</td>\n",
       "    </tr>\n",
       "    <tr>\n",
       "      <th>2572</th>\n",
       "      <td>64669_9</td>\n",
       "      <td>64669</td>\n",
       "      <td>9</td>\n",
       "      <td>12.0</td>\n",
       "      <td>16.0</td>\n",
       "      <td>17.0</td>\n",
       "      <td>0.0</td>\n",
       "      <td>On</td>\n",
       "    </tr>\n",
       "    <tr>\n",
       "      <th>2573</th>\n",
       "      <td>64669_12</td>\n",
       "      <td>64669</td>\n",
       "      <td>12</td>\n",
       "      <td>12.0</td>\n",
       "      <td>9.0</td>\n",
       "      <td>17.0</td>\n",
       "      <td>0.0</td>\n",
       "      <td>On</td>\n",
       "    </tr>\n",
       "    <tr>\n",
       "      <th>2574</th>\n",
       "      <td>64669_18</td>\n",
       "      <td>64669</td>\n",
       "      <td>18</td>\n",
       "      <td>15.0</td>\n",
       "      <td>13.0</td>\n",
       "      <td>20.0</td>\n",
       "      <td>0.0</td>\n",
       "      <td>On</td>\n",
       "    </tr>\n",
       "    <tr>\n",
       "      <th>2575</th>\n",
       "      <td>64669_24</td>\n",
       "      <td>64669</td>\n",
       "      <td>24</td>\n",
       "      <td>19.0</td>\n",
       "      <td>17.0</td>\n",
       "      <td>25.0</td>\n",
       "      <td>0.0</td>\n",
       "      <td>On</td>\n",
       "    </tr>\n",
       "    <tr>\n",
       "      <th>2576</th>\n",
       "      <td>64669_30</td>\n",
       "      <td>64669</td>\n",
       "      <td>30</td>\n",
       "      <td>20.0</td>\n",
       "      <td>13.0</td>\n",
       "      <td>38.0</td>\n",
       "      <td>0.0</td>\n",
       "      <td>On</td>\n",
       "    </tr>\n",
       "    <tr>\n",
       "      <th>2577</th>\n",
       "      <td>64669_36</td>\n",
       "      <td>64669</td>\n",
       "      <td>36</td>\n",
       "      <td>23.0</td>\n",
       "      <td>18.0</td>\n",
       "      <td>53.0</td>\n",
       "      <td>0.0</td>\n",
       "      <td>Off</td>\n",
       "    </tr>\n",
       "    <tr>\n",
       "      <th>2578</th>\n",
       "      <td>64669_42</td>\n",
       "      <td>64669</td>\n",
       "      <td>42</td>\n",
       "      <td>20.0</td>\n",
       "      <td>18.0</td>\n",
       "      <td>49.0</td>\n",
       "      <td>0.0</td>\n",
       "      <td>On</td>\n",
       "    </tr>\n",
       "    <tr>\n",
       "      <th>2579</th>\n",
       "      <td>64669_48</td>\n",
       "      <td>64669</td>\n",
       "      <td>48</td>\n",
       "      <td>18.0</td>\n",
       "      <td>18.0</td>\n",
       "      <td>49.0</td>\n",
       "      <td>0.0</td>\n",
       "      <td>Off</td>\n",
       "    </tr>\n",
       "    <tr>\n",
       "      <th>2580</th>\n",
       "      <td>64669_54</td>\n",
       "      <td>64669</td>\n",
       "      <td>54</td>\n",
       "      <td>15.0</td>\n",
       "      <td>16.0</td>\n",
       "      <td>48.0</td>\n",
       "      <td>0.0</td>\n",
       "      <td>On</td>\n",
       "    </tr>\n",
       "    <tr>\n",
       "      <th>2581</th>\n",
       "      <td>64669_60</td>\n",
       "      <td>64669</td>\n",
       "      <td>60</td>\n",
       "      <td>15.0</td>\n",
       "      <td>15.0</td>\n",
       "      <td>38.0</td>\n",
       "      <td>0.0</td>\n",
       "      <td>Off</td>\n",
       "    </tr>\n",
       "    <tr>\n",
       "      <th>2582</th>\n",
       "      <td>64669_72</td>\n",
       "      <td>64669</td>\n",
       "      <td>72</td>\n",
       "      <td>15.0</td>\n",
       "      <td>19.0</td>\n",
       "      <td>39.0</td>\n",
       "      <td>0.0</td>\n",
       "      <td>On</td>\n",
       "    </tr>\n",
       "    <tr>\n",
       "      <th>2583</th>\n",
       "      <td>64669_84</td>\n",
       "      <td>64669</td>\n",
       "      <td>84</td>\n",
       "      <td>16.0</td>\n",
       "      <td>15.0</td>\n",
       "      <td>36.0</td>\n",
       "      <td>0.0</td>\n",
       "      <td>On</td>\n",
       "    </tr>\n",
       "  </tbody>\n",
       "</table>\n",
       "</div>"
      ],
      "text/plain": [
       "      visit_id  patient_id  visit_month  updrs_1  updrs_2  updrs_3  updrs_4  \\\n",
       "2569   64669_0       64669            0     12.0     14.0     27.0      NaN   \n",
       "2570   64669_3       64669            3     15.0     16.0     29.0      NaN   \n",
       "2571   64669_6       64669            6     17.0     20.0     33.0      NaN   \n",
       "2572   64669_9       64669            9     12.0     16.0     17.0      0.0   \n",
       "2573  64669_12       64669           12     12.0      9.0     17.0      0.0   \n",
       "2574  64669_18       64669           18     15.0     13.0     20.0      0.0   \n",
       "2575  64669_24       64669           24     19.0     17.0     25.0      0.0   \n",
       "2576  64669_30       64669           30     20.0     13.0     38.0      0.0   \n",
       "2577  64669_36       64669           36     23.0     18.0     53.0      0.0   \n",
       "2578  64669_42       64669           42     20.0     18.0     49.0      0.0   \n",
       "2579  64669_48       64669           48     18.0     18.0     49.0      0.0   \n",
       "2580  64669_54       64669           54     15.0     16.0     48.0      0.0   \n",
       "2581  64669_60       64669           60     15.0     15.0     38.0      0.0   \n",
       "2582  64669_72       64669           72     15.0     19.0     39.0      0.0   \n",
       "2583  64669_84       64669           84     16.0     15.0     36.0      0.0   \n",
       "\n",
       "     upd23b_clinical_state_on_medication  \n",
       "2569                                 NaN  \n",
       "2570                                 NaN  \n",
       "2571                                 NaN  \n",
       "2572                                  On  \n",
       "2573                                  On  \n",
       "2574                                  On  \n",
       "2575                                  On  \n",
       "2576                                  On  \n",
       "2577                                 Off  \n",
       "2578                                  On  \n",
       "2579                                 Off  \n",
       "2580                                  On  \n",
       "2581                                 Off  \n",
       "2582                                  On  \n",
       "2583                                  On  "
      ]
     },
     "execution_count": 33,
     "metadata": {},
     "output_type": "execute_result"
    }
   ],
   "source": [
    "df_train_cli[df_train_cli['patient_id'] ==64669]"
   ]
  },
  {
   "cell_type": "code",
   "execution_count": 28,
   "id": "62fee0d0-78cf-49a8-bca4-930a5d496096",
   "metadata": {},
   "outputs": [
    {
     "data": {
      "text/html": [
       "<div>\n",
       "<style scoped>\n",
       "    .dataframe tbody tr th:only-of-type {\n",
       "        vertical-align: middle;\n",
       "    }\n",
       "\n",
       "    .dataframe tbody tr th {\n",
       "        vertical-align: top;\n",
       "    }\n",
       "\n",
       "    .dataframe thead th {\n",
       "        text-align: right;\n",
       "    }\n",
       "</style>\n",
       "<table border=\"1\" class=\"dataframe\">\n",
       "  <thead>\n",
       "    <tr style=\"text-align: right;\">\n",
       "      <th></th>\n",
       "      <th>visit_id</th>\n",
       "      <th>patient_id</th>\n",
       "      <th>visit_month</th>\n",
       "      <th>updrs_1</th>\n",
       "      <th>updrs_2</th>\n",
       "      <th>updrs_3</th>\n",
       "      <th>updrs_4</th>\n",
       "      <th>upd23b_clinical_state_on_medication</th>\n",
       "    </tr>\n",
       "  </thead>\n",
       "  <tbody>\n",
       "    <tr>\n",
       "      <th>13</th>\n",
       "      <td>942_0</td>\n",
       "      <td>942</td>\n",
       "      <td>0</td>\n",
       "      <td>3.0</td>\n",
       "      <td>2.0</td>\n",
       "      <td>20.0</td>\n",
       "      <td>NaN</td>\n",
       "      <td>NaN</td>\n",
       "    </tr>\n",
       "    <tr>\n",
       "      <th>14</th>\n",
       "      <td>942_3</td>\n",
       "      <td>942</td>\n",
       "      <td>3</td>\n",
       "      <td>7.0</td>\n",
       "      <td>2.0</td>\n",
       "      <td>17.0</td>\n",
       "      <td>NaN</td>\n",
       "      <td>NaN</td>\n",
       "    </tr>\n",
       "    <tr>\n",
       "      <th>15</th>\n",
       "      <td>942_6</td>\n",
       "      <td>942</td>\n",
       "      <td>6</td>\n",
       "      <td>8.0</td>\n",
       "      <td>2.0</td>\n",
       "      <td>21.0</td>\n",
       "      <td>NaN</td>\n",
       "      <td>NaN</td>\n",
       "    </tr>\n",
       "    <tr>\n",
       "      <th>16</th>\n",
       "      <td>942_12</td>\n",
       "      <td>942</td>\n",
       "      <td>12</td>\n",
       "      <td>5.0</td>\n",
       "      <td>2.0</td>\n",
       "      <td>25.0</td>\n",
       "      <td>0.0</td>\n",
       "      <td>NaN</td>\n",
       "    </tr>\n",
       "    <tr>\n",
       "      <th>17</th>\n",
       "      <td>942_18</td>\n",
       "      <td>942</td>\n",
       "      <td>18</td>\n",
       "      <td>6.0</td>\n",
       "      <td>5.0</td>\n",
       "      <td>18.0</td>\n",
       "      <td>0.0</td>\n",
       "      <td>NaN</td>\n",
       "    </tr>\n",
       "    <tr>\n",
       "      <th>18</th>\n",
       "      <td>942_24</td>\n",
       "      <td>942</td>\n",
       "      <td>24</td>\n",
       "      <td>2.0</td>\n",
       "      <td>3.0</td>\n",
       "      <td>23.0</td>\n",
       "      <td>NaN</td>\n",
       "      <td>NaN</td>\n",
       "    </tr>\n",
       "    <tr>\n",
       "      <th>19</th>\n",
       "      <td>942_30</td>\n",
       "      <td>942</td>\n",
       "      <td>30</td>\n",
       "      <td>4.0</td>\n",
       "      <td>4.0</td>\n",
       "      <td>19.0</td>\n",
       "      <td>0.0</td>\n",
       "      <td>NaN</td>\n",
       "    </tr>\n",
       "    <tr>\n",
       "      <th>20</th>\n",
       "      <td>942_36</td>\n",
       "      <td>942</td>\n",
       "      <td>36</td>\n",
       "      <td>2.0</td>\n",
       "      <td>4.0</td>\n",
       "      <td>19.0</td>\n",
       "      <td>0.0</td>\n",
       "      <td>NaN</td>\n",
       "    </tr>\n",
       "    <tr>\n",
       "      <th>21</th>\n",
       "      <td>942_42</td>\n",
       "      <td>942</td>\n",
       "      <td>42</td>\n",
       "      <td>2.0</td>\n",
       "      <td>3.0</td>\n",
       "      <td>32.0</td>\n",
       "      <td>0.0</td>\n",
       "      <td>NaN</td>\n",
       "    </tr>\n",
       "    <tr>\n",
       "      <th>22</th>\n",
       "      <td>942_48</td>\n",
       "      <td>942</td>\n",
       "      <td>48</td>\n",
       "      <td>2.0</td>\n",
       "      <td>6.0</td>\n",
       "      <td>35.0</td>\n",
       "      <td>0.0</td>\n",
       "      <td>NaN</td>\n",
       "    </tr>\n",
       "    <tr>\n",
       "      <th>23</th>\n",
       "      <td>942_54</td>\n",
       "      <td>942</td>\n",
       "      <td>54</td>\n",
       "      <td>2.0</td>\n",
       "      <td>4.0</td>\n",
       "      <td>26.0</td>\n",
       "      <td>0.0</td>\n",
       "      <td>NaN</td>\n",
       "    </tr>\n",
       "    <tr>\n",
       "      <th>24</th>\n",
       "      <td>942_60</td>\n",
       "      <td>942</td>\n",
       "      <td>60</td>\n",
       "      <td>2.0</td>\n",
       "      <td>5.0</td>\n",
       "      <td>31.0</td>\n",
       "      <td>0.0</td>\n",
       "      <td>NaN</td>\n",
       "    </tr>\n",
       "    <tr>\n",
       "      <th>25</th>\n",
       "      <td>942_72</td>\n",
       "      <td>942</td>\n",
       "      <td>72</td>\n",
       "      <td>4.0</td>\n",
       "      <td>2.0</td>\n",
       "      <td>33.0</td>\n",
       "      <td>0.0</td>\n",
       "      <td>Off</td>\n",
       "    </tr>\n",
       "    <tr>\n",
       "      <th>26</th>\n",
       "      <td>942_84</td>\n",
       "      <td>942</td>\n",
       "      <td>84</td>\n",
       "      <td>4.0</td>\n",
       "      <td>8.0</td>\n",
       "      <td>26.0</td>\n",
       "      <td>0.0</td>\n",
       "      <td>Off</td>\n",
       "    </tr>\n",
       "    <tr>\n",
       "      <th>27</th>\n",
       "      <td>942_96</td>\n",
       "      <td>942</td>\n",
       "      <td>96</td>\n",
       "      <td>6.0</td>\n",
       "      <td>9.0</td>\n",
       "      <td>39.0</td>\n",
       "      <td>3.0</td>\n",
       "      <td>Off</td>\n",
       "    </tr>\n",
       "  </tbody>\n",
       "</table>\n",
       "</div>"
      ],
      "text/plain": [
       "   visit_id  patient_id  visit_month  updrs_1  updrs_2  updrs_3  updrs_4  \\\n",
       "13    942_0         942            0      3.0      2.0     20.0      NaN   \n",
       "14    942_3         942            3      7.0      2.0     17.0      NaN   \n",
       "15    942_6         942            6      8.0      2.0     21.0      NaN   \n",
       "16   942_12         942           12      5.0      2.0     25.0      0.0   \n",
       "17   942_18         942           18      6.0      5.0     18.0      0.0   \n",
       "18   942_24         942           24      2.0      3.0     23.0      NaN   \n",
       "19   942_30         942           30      4.0      4.0     19.0      0.0   \n",
       "20   942_36         942           36      2.0      4.0     19.0      0.0   \n",
       "21   942_42         942           42      2.0      3.0     32.0      0.0   \n",
       "22   942_48         942           48      2.0      6.0     35.0      0.0   \n",
       "23   942_54         942           54      2.0      4.0     26.0      0.0   \n",
       "24   942_60         942           60      2.0      5.0     31.0      0.0   \n",
       "25   942_72         942           72      4.0      2.0     33.0      0.0   \n",
       "26   942_84         942           84      4.0      8.0     26.0      0.0   \n",
       "27   942_96         942           96      6.0      9.0     39.0      3.0   \n",
       "\n",
       "   upd23b_clinical_state_on_medication  \n",
       "13                                 NaN  \n",
       "14                                 NaN  \n",
       "15                                 NaN  \n",
       "16                                 NaN  \n",
       "17                                 NaN  \n",
       "18                                 NaN  \n",
       "19                                 NaN  \n",
       "20                                 NaN  \n",
       "21                                 NaN  \n",
       "22                                 NaN  \n",
       "23                                 NaN  \n",
       "24                                 NaN  \n",
       "25                                 Off  \n",
       "26                                 Off  \n",
       "27                                 Off  "
      ]
     },
     "execution_count": 28,
     "metadata": {},
     "output_type": "execute_result"
    }
   ],
   "source": [
    "df_train_cli[df_train_cli['patient_id'] ==942]"
   ]
  },
  {
   "cell_type": "code",
   "execution_count": 40,
   "id": "27d7b09d-9284-4781-b744-896ffdfd0f4c",
   "metadata": {},
   "outputs": [
    {
     "name": "stdout",
     "output_type": "stream",
     "text": [
      "On     15\n",
      "Off     7\n",
      "Name: upd23b_clinical_state_on_medication, dtype: int64\n",
      "1016\n"
     ]
    }
   ],
   "source": [
    "dft=df_train_cli[df_train_cli['updrs_4'].isna()]\n",
    "print(dft.upd23b_clinical_state_on_medication.value_counts())\n",
    "print(dft.upd23b_clinical_state_on_medication.isna().sum())"
   ]
  },
  {
   "cell_type": "markdown",
   "id": "ab7b114d-c832-4ae4-89c9-b2d85309da5d",
   "metadata": {},
   "source": [
    "## Start cleaning"
   ]
  },
  {
   "cell_type": "code",
   "execution_count": 41,
   "id": "856dda8c-1357-44c6-a1a1-74695fc106a3",
   "metadata": {},
   "outputs": [
    {
     "data": {
      "text/plain": [
       "visit_id                                  0\n",
       "patient_id                                0\n",
       "visit_month                               0\n",
       "updrs_1                                   1\n",
       "updrs_2                                   2\n",
       "updrs_3                                  25\n",
       "updrs_4                                1038\n",
       "upd23b_clinical_state_on_medication    1327\n",
       "dtype: int64"
      ]
     },
     "execution_count": 41,
     "metadata": {},
     "output_type": "execute_result"
    }
   ],
   "source": [
    "df_train_cli.isnull().sum()"
   ]
  },
  {
   "cell_type": "code",
   "execution_count": 42,
   "id": "a10ef48f-c0c7-4651-949a-22dc173959c2",
   "metadata": {},
   "outputs": [
    {
     "data": {
      "text/html": [
       "<div>\n",
       "<style scoped>\n",
       "    .dataframe tbody tr th:only-of-type {\n",
       "        vertical-align: middle;\n",
       "    }\n",
       "\n",
       "    .dataframe tbody tr th {\n",
       "        vertical-align: top;\n",
       "    }\n",
       "\n",
       "    .dataframe thead th {\n",
       "        text-align: right;\n",
       "    }\n",
       "</style>\n",
       "<table border=\"1\" class=\"dataframe\">\n",
       "  <thead>\n",
       "    <tr style=\"text-align: right;\">\n",
       "      <th></th>\n",
       "      <th>visit_id</th>\n",
       "      <th>patient_id</th>\n",
       "      <th>visit_month</th>\n",
       "      <th>updrs_1</th>\n",
       "      <th>updrs_2</th>\n",
       "      <th>updrs_3</th>\n",
       "      <th>updrs_4</th>\n",
       "      <th>upd23b_clinical_state_on_medication</th>\n",
       "    </tr>\n",
       "  </thead>\n",
       "  <tbody>\n",
       "    <tr>\n",
       "      <th>1827</th>\n",
       "      <td>45181_42</td>\n",
       "      <td>45181</td>\n",
       "      <td>42</td>\n",
       "      <td>NaN</td>\n",
       "      <td>NaN</td>\n",
       "      <td>0.0</td>\n",
       "      <td>NaN</td>\n",
       "      <td>NaN</td>\n",
       "    </tr>\n",
       "  </tbody>\n",
       "</table>\n",
       "</div>"
      ],
      "text/plain": [
       "      visit_id  patient_id  visit_month  updrs_1  updrs_2  updrs_3  updrs_4  \\\n",
       "1827  45181_42       45181           42      NaN      NaN      0.0      NaN   \n",
       "\n",
       "     upd23b_clinical_state_on_medication  \n",
       "1827                                 NaN  "
      ]
     },
     "execution_count": 42,
     "metadata": {},
     "output_type": "execute_result"
    }
   ],
   "source": [
    "#outcomes\n",
    "df_train_cli[df_train_cli.updrs_1.isna()]"
   ]
  },
  {
   "cell_type": "code",
   "execution_count": 43,
   "id": "6da3bb4b-d027-489b-b1b2-5dc109ae1110",
   "metadata": {},
   "outputs": [
    {
     "data": {
      "text/html": [
       "<div>\n",
       "<style scoped>\n",
       "    .dataframe tbody tr th:only-of-type {\n",
       "        vertical-align: middle;\n",
       "    }\n",
       "\n",
       "    .dataframe tbody tr th {\n",
       "        vertical-align: top;\n",
       "    }\n",
       "\n",
       "    .dataframe thead th {\n",
       "        text-align: right;\n",
       "    }\n",
       "</style>\n",
       "<table border=\"1\" class=\"dataframe\">\n",
       "  <thead>\n",
       "    <tr style=\"text-align: right;\">\n",
       "      <th></th>\n",
       "      <th>visit_id</th>\n",
       "      <th>patient_id</th>\n",
       "      <th>visit_month</th>\n",
       "      <th>updrs_1</th>\n",
       "      <th>updrs_2</th>\n",
       "      <th>updrs_3</th>\n",
       "      <th>updrs_4</th>\n",
       "      <th>upd23b_clinical_state_on_medication</th>\n",
       "    </tr>\n",
       "  </thead>\n",
       "  <tbody>\n",
       "    <tr>\n",
       "      <th>1823</th>\n",
       "      <td>45181_0</td>\n",
       "      <td>45181</td>\n",
       "      <td>0</td>\n",
       "      <td>5.0</td>\n",
       "      <td>0.0</td>\n",
       "      <td>2.0</td>\n",
       "      <td>NaN</td>\n",
       "      <td>NaN</td>\n",
       "    </tr>\n",
       "    <tr>\n",
       "      <th>1824</th>\n",
       "      <td>45181_6</td>\n",
       "      <td>45181</td>\n",
       "      <td>6</td>\n",
       "      <td>6.0</td>\n",
       "      <td>0.0</td>\n",
       "      <td>4.0</td>\n",
       "      <td>NaN</td>\n",
       "      <td>NaN</td>\n",
       "    </tr>\n",
       "    <tr>\n",
       "      <th>1825</th>\n",
       "      <td>45181_12</td>\n",
       "      <td>45181</td>\n",
       "      <td>12</td>\n",
       "      <td>9.0</td>\n",
       "      <td>0.0</td>\n",
       "      <td>1.0</td>\n",
       "      <td>NaN</td>\n",
       "      <td>NaN</td>\n",
       "    </tr>\n",
       "    <tr>\n",
       "      <th>1826</th>\n",
       "      <td>45181_24</td>\n",
       "      <td>45181</td>\n",
       "      <td>24</td>\n",
       "      <td>7.0</td>\n",
       "      <td>0.0</td>\n",
       "      <td>1.0</td>\n",
       "      <td>NaN</td>\n",
       "      <td>NaN</td>\n",
       "    </tr>\n",
       "    <tr>\n",
       "      <th>1827</th>\n",
       "      <td>45181_42</td>\n",
       "      <td>45181</td>\n",
       "      <td>42</td>\n",
       "      <td>NaN</td>\n",
       "      <td>NaN</td>\n",
       "      <td>0.0</td>\n",
       "      <td>NaN</td>\n",
       "      <td>NaN</td>\n",
       "    </tr>\n",
       "    <tr>\n",
       "      <th>1828</th>\n",
       "      <td>45181_48</td>\n",
       "      <td>45181</td>\n",
       "      <td>48</td>\n",
       "      <td>2.0</td>\n",
       "      <td>0.0</td>\n",
       "      <td>4.0</td>\n",
       "      <td>NaN</td>\n",
       "      <td>NaN</td>\n",
       "    </tr>\n",
       "  </tbody>\n",
       "</table>\n",
       "</div>"
      ],
      "text/plain": [
       "      visit_id  patient_id  visit_month  updrs_1  updrs_2  updrs_3  updrs_4  \\\n",
       "1823   45181_0       45181            0      5.0      0.0      2.0      NaN   \n",
       "1824   45181_6       45181            6      6.0      0.0      4.0      NaN   \n",
       "1825  45181_12       45181           12      9.0      0.0      1.0      NaN   \n",
       "1826  45181_24       45181           24      7.0      0.0      1.0      NaN   \n",
       "1827  45181_42       45181           42      NaN      NaN      0.0      NaN   \n",
       "1828  45181_48       45181           48      2.0      0.0      4.0      NaN   \n",
       "\n",
       "     upd23b_clinical_state_on_medication  \n",
       "1823                                 NaN  \n",
       "1824                                 NaN  \n",
       "1825                                 NaN  \n",
       "1826                                 NaN  \n",
       "1827                                 NaN  \n",
       "1828                                 NaN  "
      ]
     },
     "execution_count": 43,
     "metadata": {},
     "output_type": "execute_result"
    }
   ],
   "source": [
    "df_train_cli[df_train_cli.patient_id==45181]"
   ]
  },
  {
   "cell_type": "markdown",
   "id": "58554283-6008-490c-8285-01cd383c8d12",
   "metadata": {
    "jp-MarkdownHeadingCollapsed": true,
    "tags": []
   },
   "source": [
    "## Visualize some outcomes"
   ]
  },
  {
   "cell_type": "code",
   "execution_count": 22,
   "id": "1127efd3-2ab8-4dbf-b51b-0cb7c8be6dd4",
   "metadata": {},
   "outputs": [
    {
     "data": {
      "image/png": "[encoded data removed]",
      "text/plain": [
       "<Figure size 1728x864 with 4 Axes>"
      ]
     },
     "metadata": {
      "needs_background": "light"
     },
     "output_type": "display_data"
    }
   ],
   "source": [
    "fig, ax1 = plt.subplots(*(4,1),figsize=(24,12))\n",
    "updirs=['updrs_1','updrs_2','updrs_3','updrs_4']\n",
    "for i,ud in enumerate(updirs):\n",
    "    _=sns.lineplot(data=df_train_cli[df_train_cli.patient_id.isin(patients[:3])], x=df_train_cli.visit_month, y=ud,hue='patient_id',ax=ax1[i],legend='full')"
   ]
  },
  {
   "cell_type": "markdown",
   "id": "7d078d35-2727-438b-9ed0-60f15edbbac6",
   "metadata": {},
   "source": [
    "## Are there any corelations?\n"
   ]
  },
  {
   "cell_type": "code",
   "execution_count": 23,
   "id": "f3fb7d90-d6cc-444d-b1a7-2b807f43a008",
   "metadata": {},
   "outputs": [],
   "source": [
    "import pandas as pd\n",
    "import numpy as np\n",
    "def impute_NaNs(df, strategy='most_frequent',verbose=True):\n",
    "    '''\n",
    "    use simple imputer to replace NaNs\n",
    "    df: dataframe to operate on\n",
    "    return: transformed df\n",
    "    '''\n",
    "    #are there any?\n",
    "    nans=df.isnull().sum()\n",
    "    tot=nans.sum()\n",
    "    if tot==0:\n",
    "        return df\n",
    "    \n",
    "    if verbose == True:\n",
    "        print(f'Fixing {tot} NaNs using {strategy} strategy')\n",
    " \n",
    "    imp = SimpleImputer(missing_values=np.nan, strategy=strategy)  #works with strings\n",
    "    nans=[nans.index[i] for i,val in enumerate(nans) if val>0]   \n",
    "    for val in nans:        \n",
    "        imp = imp.fit(df[[val]])  #determine replacement  \n",
    "        df[[val]]=imp.transform(df[[val]])  #here is where the transform is applied \n",
    "    return df\n",
    "\n",
    "#find extra correlated columns\n",
    "def get_correlated_columns(df,correlation_threshold=.95):\n",
    "    '''\n",
    "    df: a dataframe\n",
    "    correlation_threshold: select all rows and columns that have a correlation >= to this value\n",
    "    return: list of tuples of form [ (col,row),...]\n",
    "    '''\n",
    "    # generate the correlation matrix (abs converts to absolute value, this way we only look for 1 color range)\n",
    "    corr = df.corr().abs()\n",
    "    # Generate mask for the upper triangle (see https://seaborn.pydata.org/examples/many_pairwise_correlations.html)\n",
    "    # the matrix is symmetric, the diagonal (all 1's) and upper triangle are visual noise, use this to mask both out\n",
    "    mask = np.tril(np.ones_like(corr, dtype=bool), k=-1)    #k=-1 means get rid of the diagonal\n",
    "    corr = corr.where(cond=mask)\n",
    "    \n",
    "    correlated=[]\n",
    "    for col in corr.columns:\n",
    "        for i,val in enumerate(corr.loc[col]):\n",
    "            if( val>= correlation_threshold):\n",
    "                correlated.append((col,corr.loc[col].index[i]))\n",
    "    return correlated"
   ]
  },
  {
   "cell_type": "code",
   "execution_count": 27,
   "id": "6e39b2ee-7232-4fd4-91d2-c6fc81772faf",
   "metadata": {},
   "outputs": [
    {
     "data": {
      "text/plain": [
       "[('updrs_2', 'updrs_1'), ('updrs_3', 'updrs_2')]"
      ]
     },
     "execution_count": 27,
     "metadata": {},
     "output_type": "execute_result"
    }
   ],
   "source": [
    " get_correlated_columns(df_train_cli, correlation_threshold=.65)"
   ]
  },
  {
   "cell_type": "markdown",
   "id": "af0e5efb-96f2-4a96-84e8-e3d2934923fd",
   "metadata": {},
   "source": [
    "## add a time treated feature"
   ]
  },
  {
   "cell_type": "code",
   "execution_count": null,
   "id": "bb9698fc-c17a-4369-8d93-979e9ec813b8",
   "metadata": {},
   "outputs": [],
   "source": []
  }
 ],
 "metadata": {
  "kernelspec": {
   "display_name": "Python 3 (ipykernel)",
   "language": "python",
   "name": "python3"
  },
  "language_info": {
   "codemirror_mode": {
    "name": "ipython",
    "version": 3
   },
   "file_extension": ".py",
   "mimetype": "text/x-python",
   "name": "python",
   "nbconvert_exporter": "python",
   "pygments_lexer": "ipython3",
   "version": "3.9.13"
  }
 },
 "nbformat": 4,
 "nbformat_minor": 5
}
